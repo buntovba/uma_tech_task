{
 "cells": [
  {
   "cell_type": "code",
   "execution_count": 1,
   "metadata": {},
   "outputs": [
    {
     "name": "stderr",
     "output_type": "stream",
     "text": [
      "/Library/Frameworks/Python.framework/Versions/3.6/lib/python3.6/site-packages/sklearn/cross_validation.py:41: DeprecationWarning: This module was deprecated in version 0.18 in favor of the model_selection module into which all the refactored classes and functions are moved. Also note that the interface of the new CV iterators are different from that of this module. This module will be removed in 0.20.\n",
      "  \"This module will be removed in 0.20.\", DeprecationWarning)\n",
      "/Library/Frameworks/Python.framework/Versions/3.6/lib/python3.6/site-packages/sklearn/grid_search.py:42: DeprecationWarning: This module was deprecated in version 0.18 in favor of the model_selection module into which all the refactored classes and functions are moved. This module will be removed in 0.20.\n",
      "  DeprecationWarning)\n"
     ]
    }
   ],
   "source": [
    "# Импорт библиотек\n",
    "import warnings\n",
    "warnings.filterwarnings('ignore')\n",
    "\n",
    "import pandas as pd\n",
    "import numpy as np\n",
    "\n",
    "from sklearn.neighbors import KNeighborsClassifier\n",
    "from sklearn.grid_search import GridSearchCV\n",
    "from sklearn.metrics import roc_auc_score\n",
    "from sklearn.model_selection import train_test_split\n",
    "\n",
    "import lightgbm as lgbm"
   ]
  },
  {
   "cell_type": "code",
   "execution_count": 2,
   "metadata": {
    "collapsed": true
   },
   "outputs": [],
   "source": [
    "train_prepared = 'train_prepared.csv'\n",
    "test_prepared = 'test_prepared.csv'\n",
    "train_additional = 'train_additional_data.csv'\n",
    "test_additional = 'test_additional_data.csv'"
   ]
  },
  {
   "cell_type": "code",
   "execution_count": null,
   "metadata": {},
   "outputs": [],
   "source": [
    "# Проверил NaN\n",
    "df = pd.read_csv(train_prepared)\n",
    "print(df.isna().any().any())\n",
    "print(df['label'].value_counts(normalize=True))"
   ]
  },
  {
   "cell_type": "code",
   "execution_count": null,
   "metadata": {},
   "outputs": [],
   "source": [
    "# Проверил NaN\n",
    "df_add = pd.read_csv(train_additional)\n",
    "print(df_add.isna().any())\n",
    "print(df_add['action'].value_counts(normalize=True))"
   ]
  },
  {
   "cell_type": "code",
   "execution_count": null,
   "metadata": {},
   "outputs": [],
   "source": [
    "# Подготовка данных train_prepared. Добавил и убрал некоторые фичи. Добавил additional_prepared\n",
    "def train(file):\n",
    "    df = pd.read_csv(file, parse_dates=['cut_date', 'first_date', 'last_date'])\n",
    "    df = df.set_index('email')\n",
    "    df['label'] = df['label'].astype(int)\n",
    "    days_dif = ((df['last_date'] - df['first_date']) / np.timedelta64(1, 'D')).astype(int)\n",
    "    df.drop(columns=['cut_date', 'first_date', 'last_date'], axis=1, inplace=True)\n",
    "    df.insert(5, 'days_dif', days_dif)\n",
    "\n",
    "    return df\n",
    "\n",
    "def train_add(file):\n",
    "    df = pd.read_csv(file)\n",
    "    df = df.set_index('email')\n",
    "    df['trial'] = df['trial'].fillna(0).astype(int)\n",
    "    action_int = {'CREATE': 1, 'DELETE': 0}\n",
    "    df['action'] = df['action'].map(action_int).astype(int)\n",
    "    df_1 = df.sort_values('calday').groupby('email').tail(1)\n",
    "    df_1.drop(columns=['calday'], axis=1, inplace=True)\n",
    "    \n",
    "    return df_1\n",
    "\n",
    "def train_merging(df, df_add):\n",
    "    df_final = pd.merge(df, df_add, left_index=True, right_index=True)\n",
    "    df_final.head()\n",
    "    \n",
    "    return df_final\n",
    "\n",
    "def train_for_models(file_1, file_2):\n",
    "    X = train_merging(train(file_1), train_add(file_2)).drop('label', axis=1)\n",
    "    y = train_merging(train(file_1), train_add(file_2))['label']#.astype(int)\n",
    "    \n",
    "    return X, y\n",
    "\n",
    "print(train_for_models(train_prepared, train_additional))"
   ]
  },
  {
   "cell_type": "code",
   "execution_count": null,
   "metadata": {},
   "outputs": [],
   "source": [
    "# Аналогично для test\n",
    "def test(file):\n",
    "    df = pd.read_csv(file, parse_dates=['cut_date', 'first_date', 'last_date'])\n",
    "    df = df.set_index('email')\n",
    "    days_dif = ((df['last_date'] - df['first_date']) / np.timedelta64(1, 'D')).astype(int)\n",
    "    df.drop(columns=['cut_date', 'first_date', 'last_date'], axis=1, inplace=True)\n",
    "    df.insert(5, 'days_dif', days_dif)    \n",
    "\n",
    "    return df\n",
    "\n",
    "def test_add(file):\n",
    "    df = pd.read_csv(file)\n",
    "    df = df.set_index('email')\n",
    "    df['trial'] = df['trial'].fillna(0).astype('int32')\n",
    "    action_int = {'CREATE': 1, 'DELETE': 0}\n",
    "    df['action'] = df['action'].map(action_int).astype('int32')\n",
    "    df_1 = df.sort_values('calday').groupby('email').tail(1)\n",
    "    df_1.drop(columns=['calday'], axis=1, inplace=True)\n",
    "    \n",
    "    return df_1\n",
    "\n",
    "def test_for_models(file_1, file_2):\n",
    "    X_test = pd.merge(test(file_1), test_add(file_2), left_index=True, right_index=True)\n",
    "    \n",
    "    return X_test\n",
    "\n",
    "print(test_for_models(test_prepared, test_additional))"
   ]
  },
  {
   "cell_type": "code",
   "execution_count": 5,
   "metadata": {},
   "outputs": [],
   "source": [
    "# Оценил качество предсказания методом K ближайших соседей. Потюнил гиперпараметры с помощью GridSearch\n",
    "def knn_classifier(X, y):\n",
    "    knn_clf = KNeighborsClassifier()\n",
    "    params_grid = {'n_neighbors': [3, 5, 7]}\n",
    "    X_train, X_test, y_train, y_tes = train_test_split(X, y, train_size=0.7)\n",
    "    gs = GridSearchCV(knn_clf, params_grid, cv=3, verbose=2, scoring='roc_auc')\n",
    "    gs.fit(X_train, y_train)\n",
    "    print('KNeighbors Classifier Score:', gs.best_score_)\n",
    "    print('KNeighbors Classifier Best Parameters:', gs.best_params_)\n",
    "\n",
    "    return knn_clf\n",
    "\n",
    "#X, y = train_for_models(train_prepared, train_additional)\n",
    "#knn_classifier(X, y)"
   ]
  },
  {
   "cell_type": "code",
   "execution_count": 6,
   "metadata": {},
   "outputs": [],
   "source": [
    "# Ананалогично для Light GBM. Score оказался значительно лучше\n",
    "def lgbm_classifier(X, y):\n",
    "    lgbm_clf = lgbm.LGBMClassifier(silent=False)\n",
    "    params_grid = {'max_depth': [25, 50],\n",
    "              'learning_rate' : [0.01, 0.05]\n",
    "             }\n",
    "    X_train, X_test, y_train, y_tes = train_test_split(X, y, train_size=0.7)\n",
    "    gs = GridSearchCV(lgbm_clf, params_grid, cv=3, verbose=2, scoring='roc_auc')\n",
    "    gs.fit(X_train, y_train)\n",
    "    print('Light GBM Classifier Score:', gs.best_score_)\n",
    "    print('Light GBM Classifier Best Parameters:', gs.best_params_)\n",
    "\n",
    "    return lgbm_clf\n",
    "\n",
    "#X, y = train_for_models(train_prepared, train_additional)\n",
    "#lgbm_classifier(X, y)"
   ]
  },
  {
   "cell_type": "code",
   "execution_count": 17,
   "metadata": {},
   "outputs": [],
   "source": [
    "# Финальное предсказание и сабмишн\n",
    "def final_model(train_prepared, train_additional, test_prepared, test_additional):\n",
    "    X_train, y_train = train_for_models(train_prepared, train_additional)\n",
    "    X_test = test_for_models(test_prepared, test_additional)\n",
    "\n",
    "    lgbm_model = lgbm.LGBMClassifier(silent=False, learning_rate=0.05, max_depth=25).fit(X_train, y_train)\n",
    "    y_pred_lgbm = lgbm_model.predict_proba(X_test)[:,0]\n",
    "    \n",
    "    X_test = pd.DataFrame(X_test.index)\n",
    "    y_pred = pd.DataFrame(y_pred_lgbm)\n",
    "    \n",
    "    sub = pd.concat([X_test, y_pred], axis=1)\n",
    "    sub = sub.set_index('email')\n",
    "    sub.apply(lambda x: round(x, 3)).to_csv('submission_uma_tech_task.csv')\n",
    "    \n",
    "final_model(train_prepared, train_additional, test_prepared, test_additional)"
   ]
  }
 ],
 "metadata": {
  "kernelspec": {
   "display_name": "Python 3",
   "language": "python",
   "name": "python3"
  },
  "language_info": {
   "codemirror_mode": {
    "name": "ipython",
    "version": 3
   },
   "file_extension": ".py",
   "mimetype": "text/x-python",
   "name": "python",
   "nbconvert_exporter": "python",
   "pygments_lexer": "ipython3",
   "version": "3.6.3"
  }
 },
 "nbformat": 4,
 "nbformat_minor": 2
}
